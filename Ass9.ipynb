{
 "cells": [
  {
   "cell_type": "code",
   "execution_count": 1,
   "id": "015fba40-322f-4abe-86ce-7532bfb93903",
   "metadata": {
    "tags": []
   },
   "outputs": [],
   "source": [
    "class Animal:\n",
    "    def __init__(self, genus, name, year_of_birth, color=None, weight=None):\n",
    "        self.genus = genus\n",
    "        self.name = name\n",
    "        self.year_of_birth = year_of_birth\n",
    "        self.color = color  \n",
    "        self.weight = weight \n",
    "\n",
    "    def get_age(self, year):\n",
    "        \"\"\"Calculates the age of the animal at the given year.\"\"\"\n",
    "        return year - self.year_of_birth\n",
    "\n",
    "    def get_info(self):\n",
    "        \"\"\"Prints basic information about the animal.\"\"\"\n",
    "        return f\"{self.name} is a {self.genus}\"\n",
    "\n",
    "    def get_full_info(self):\n",
    "        \"\"\"Prints more detailed information including optional attributes.\"\"\"\n",
    "        info = f\"{self.name} is a {self.genus} born in {self.year_of_birth}.\"\n",
    "        if self.color:\n",
    "            info += f\" It is {self.color}.\"\n",
    "        if self.weight:\n",
    "            info += f\" It weighs {self.weight} kg.\"\n",
    "        return info"
   ]
  },
  {
   "cell_type": "code",
   "execution_count": 2,
   "id": "a27ec52a-a2cf-4187-995a-eefa57276f55",
   "metadata": {
    "tags": []
   },
   "outputs": [
    {
     "name": "stdout",
     "output_type": "stream",
     "text": [
      "Dumbo is a elephant\n",
      "83\n",
      "Dumbo is a elephant born in 1941. It is gray. It weighs 1200 kg.\n",
      "Kaa is a python born in 1967.\n"
     ]
    }
   ],
   "source": [
    "dumbo = Animal(genus=\"elephant\", name=\"Dumbo\", year_of_birth=1941, color=\"gray\", weight=1200)\n",
    "kaa = Animal(genus=\"python\", name=\"Kaa\", year_of_birth=1967)\n",
    "\n",
    "print(dumbo.get_info())  # Dumbo is a elephant\n",
    "print(dumbo.get_age(2024))  # Calculates Dumbo's age in 2024\n",
    "print(dumbo.get_full_info())  # Full info including color and weight\n",
    "print(kaa.get_full_info())  # Info for Kaa with fewer attributes"
   ]
  },
  {
   "cell_type": "code",
   "execution_count": 3,
   "id": "40df111e-f78f-4a5e-9b18-fd67a3550224",
   "metadata": {
    "tags": []
   },
   "outputs": [
    {
     "name": "stdout",
     "output_type": "stream",
     "text": [
      "Fennec is a fox\n",
      "Age in 2024: 9 years\n",
      "Fennec is a fox born in 2015. It is sand. It weighs 10 kg.\n",
      "---\n",
      "Balto is a dog\n",
      "Age in 2024: 32 years\n",
      "Balto is a dog born in 1992. It is gray. It weighs 30 kg.\n",
      "---\n",
      "Kaa is a python\n",
      "Age in 2024: 57 years\n",
      "Kaa is a python born in 1967.\n",
      "---\n",
      "Dumbo is a elephant\n",
      "Age in 2024: 83 years\n",
      "Dumbo is a elephant born in 1941. It is gray. It weighs 1200 kg.\n",
      "---\n",
      "Simba is a lion\n",
      "Age in 2024: 30 years\n",
      "Simba is a lion born in 1994. It is golden. It weighs 190 kg.\n",
      "---\n"
     ]
    }
   ],
   "source": [
    "# List of animal instances\n",
    "animals = [\n",
    "    Animal(genus=\"fox\", name=\"Fennec\", year_of_birth=2015, color=\"sand\", weight=10),\n",
    "    Animal(genus=\"dog\", name=\"Balto\", year_of_birth=1992, color=\"gray\", weight=30),\n",
    "    Animal(genus=\"python\", name=\"Kaa\", year_of_birth=1967),\n",
    "    Animal(genus=\"elephant\", name=\"Dumbo\", year_of_birth=1941, color=\"gray\", weight=1200),\n",
    "    Animal(genus=\"lion\", name=\"Simba\", year_of_birth=1994, color=\"golden\", weight=190)\n",
    "]\n",
    "\n",
    "# Iterate through the list and print results\n",
    "for animal in animals:\n",
    "    print(animal.get_info())\n",
    "    print(f\"Age in 2024: {animal.get_age(2024)} years\")\n",
    "    print(animal.get_full_info())\n",
    "    print(\"---\")"
   ]
  },
  {
   "cell_type": "code",
   "execution_count": 4,
   "id": "b7911246-463c-45ec-bd0b-ccc8f088acbf",
   "metadata": {
    "tags": []
   },
   "outputs": [
    {
     "name": "stdout",
     "output_type": "stream",
     "text": [
      "The oldest animal is Dumbo, a elephant, and is 83 years old.\n"
     ]
    }
   ],
   "source": [
    "class Animal:\n",
    "    def __init__(self, genus, name, year_of_birth, color=None, weight=None):\n",
    "        self.genus = genus\n",
    "        self.name = name\n",
    "        self.year_of_birth = year_of_birth\n",
    "        self.color = color\n",
    "        self.weight = weight\n",
    "\n",
    "    def get_age(self, year):\n",
    "        return year - self.year_of_birth\n",
    "\n",
    "    def get_info(self):\n",
    "        return f\"{self.name} is a {self.genus}\"\n",
    "\n",
    "    def get_full_info(self):\n",
    "        info = f\"{self.name} is a {self.genus} born in {self.year_of_birth}.\"\n",
    "        if self.color:\n",
    "            info += f\" It is {self.color}.\"\n",
    "        if self.weight:\n",
    "            info += f\" It weighs {self.weight} kg.\"\n",
    "        return info\n",
    "\n",
    "def find_oldest_animal(animals, current_year):\n",
    "    oldest_animal = min(animals, key=lambda animal: animal.year_of_birth)\n",
    "    age = oldest_animal.get_age(current_year)\n",
    "    return oldest_animal, age\n",
    "\n",
    "# List of animal instances\n",
    "animals = [\n",
    "    Animal(genus=\"fox\", name=\"Fennec\", year_of_birth=2015, color=\"sand\", weight=10),\n",
    "    Animal(genus=\"dog\", name=\"Balto\", year_of_birth=1992, color=\"gray\", weight=30),\n",
    "    Animal(genus=\"python\", name=\"Kaa\", year_of_birth=1967),\n",
    "    Animal(genus=\"elephant\", name=\"Dumbo\", year_of_birth=1941, color=\"gray\", weight=1200),\n",
    "    Animal(genus=\"lion\", name=\"Simba\", year_of_birth=1994, color=\"golden\", weight=190)\n",
    "]\n",
    "\n",
    "# Find and print the oldest animal\n",
    "oldest_animal, age = find_oldest_animal(animals, 2024)\n",
    "print(f\"The oldest animal is {oldest_animal.name}, a {oldest_animal.genus}, and is {age} years old.\")"
   ]
  },
  {
   "cell_type": "code",
   "execution_count": 5,
   "id": "ba2fa2b7-6ad3-49f3-94ae-7c31ce447d9b",
   "metadata": {
    "tags": []
   },
   "outputs": [
    {
     "name": "stdout",
     "output_type": "stream",
     "text": [
      "Fennec, fox\n",
      "Balto, dog\n",
      "Kaa, python\n",
      "Dumbo, elephant\n",
      "Simba, lion\n",
      "\n"
     ]
    }
   ],
   "source": [
    "# Function to write animal data to a text file\n",
    "def write_animals_to_file(animals, filename=\"animals.txt\"):\n",
    "    with open(filename, 'w') as file:\n",
    "        for animal in animals:\n",
    "            file.write(f\"{animal.name}, {animal.genus}\\n\")\n",
    "\n",
    "# List of animal instances\n",
    "animals = [\n",
    "    Animal(genus=\"fox\", name=\"Fennec\", year_of_birth=2015, color=\"sand\", weight=10),\n",
    "    Animal(genus=\"dog\", name=\"Balto\", year_of_birth=1992, color=\"gray\", weight=30),\n",
    "    Animal(genus=\"python\", name=\"Kaa\", year_of_birth=1967),\n",
    "    Animal(genus=\"elephant\", name=\"Dumbo\", year_of_birth=1941, color=\"gray\", weight=1200),\n",
    "    Animal(genus=\"lion\", name=\"Simba\", year_of_birth=1994, color=\"golden\", weight=190)\n",
    "]\n",
    "\n",
    "# Write the names and genera to a file\n",
    "write_animals_to_file(animals)\n",
    "\n",
    "# Check if the file was created and print its content (optional)\n",
    "with open(\"animals.txt\", \"r\") as file:\n",
    "    print(file.read())"
   ]
  },
  {
   "cell_type": "code",
   "execution_count": null,
   "id": "0a1a7650-5f78-4597-a186-70c355b639b4",
   "metadata": {},
   "outputs": [],
   "source": []
  }
 ],
 "metadata": {
  "kernelspec": {
   "display_name": "Python 3 (ipykernel)",
   "language": "python",
   "name": "python3"
  },
  "language_info": {
   "codemirror_mode": {
    "name": "ipython",
    "version": 3
   },
   "file_extension": ".py",
   "mimetype": "text/x-python",
   "name": "python",
   "nbconvert_exporter": "python",
   "pygments_lexer": "ipython3",
   "version": "3.10.9"
  }
 },
 "nbformat": 4,
 "nbformat_minor": 5
}
